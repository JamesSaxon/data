{
 "cells": [
  {
   "cell_type": "code",
   "execution_count": 1,
   "metadata": {
    "collapsed": false
   },
   "outputs": [],
   "source": [
    "import pandas as pd\n",
    "import numpy as np\n",
    "\n",
    "from scipy.stats import zscore\n",
    "\n",
    "import geopandas as gpd\n",
    "\n",
    "import psycopg2\n",
    "from fiona.crs import from_epsg\n",
    "\n",
    "from netrc import netrc\n",
    "user, acct, passwd = netrc().authenticators(\"harris\")\n",
    "\n",
    "import matplotlib.pyplot as plt\n",
    "\n",
    "import json\n",
    "\n",
    "%matplotlib inline"
   ]
  },
  {
   "cell_type": "code",
   "execution_count": 2,
   "metadata": {
    "collapsed": true
   },
   "outputs": [],
   "source": [
    "geo_tracts = gpd.read_postgis(\"SELECT state::bigint * 1000000000 + county * 1000000 + tract geoid, \"\n",
    "                              \"ST_Transform(geom, 3528) geom \"\n",
    "                              \"FROM census_tracts_2015 \"\n",
    "                              \"WHERE state = 17 AND (county = 31 OR county = 43);\",\n",
    "                              con = psycopg2.connect(database = \"census\", user = user, password = passwd,\n",
    "                                                     host = \"saxon.harris.uchicago.edu\", port = 5432),\n",
    "                              index_col = \"geoid\", geom_col = \"geom\", crs = from_epsg(3528))\n",
    "\n",
    "chicago = gpd.read_file(\"chicago.geojson\").to_crs(epsg = 3528).unary_union\n",
    "chi_tracts = sorted(list(geo_tracts[geo_tracts.centroid.within(chicago)].index))"
   ]
  },
  {
   "cell_type": "code",
   "execution_count": 3,
   "metadata": {
    "collapsed": false
   },
   "outputs": [],
   "source": [
    "traces = pd.read_csv(\"c_adjacencies.csv\", names = [\"A\", \"B\", \"link\"])\n",
    "\n",
    "mtraces = traces.pivot(index = \"A\", columns = \"B\", values = \"link\").fillna(0).sort_index()\n",
    "mtraces = mtraces.loc[chi_tracts].dropna()\n",
    "mtraces = mtraces[list(mtraces.index)]\n",
    "mtraces = mtraces.div(mtraces.sum(axis=0), axis=1)\n",
    "\n",
    "mtraces.index   = mtraces.index % 1000000\n",
    "mtraces.columns = mtraces.columns % 1000000"
   ]
  },
  {
   "cell_type": "code",
   "execution_count": 4,
   "metadata": {
    "collapsed": false
   },
   "outputs": [
    {
     "name": "stderr",
     "output_type": "stream",
     "text": [
      "/home/jsaxon/anaconda3/lib/python3.5/site-packages/ipykernel/__main__.py:5: RuntimeWarning: divide by zero encountered in log\n"
     ]
    }
   ],
   "source": [
    "for A in mtraces.index:\n",
    "    \n",
    "    place = mtraces.loc[A].reset_index().rename(columns = {\"B\" : \"GEOID\", A : \"link\"})\n",
    "\n",
    "    place[\"loglink\"] = np.log(place.link)\n",
    "    place.replace([np.inf, -np.inf], np.nan, inplace = True)\n",
    "    place.dropna(inplace = True)\n",
    "    \n",
    "    place[\"zlink\"] = zscore(place.loglink)\n",
    "\n",
    "    place = place[[\"GEOID\", \"loglink\", \"zlink\"]].set_index(\"GEOID\")\n",
    "\n",
    "    with open(\"traces/\" + str(A) + \".json\", \"w\") as out: out.write(place.to_json())"
   ]
  },
  {
   "cell_type": "code",
   "execution_count": 5,
   "metadata": {
    "collapsed": false
   },
   "outputs": [],
   "source": [
    "# print(sorted(list(mtraces.index)))"
   ]
  },
  {
   "cell_type": "code",
   "execution_count": null,
   "metadata": {
    "collapsed": true
   },
   "outputs": [],
   "source": []
  }
 ],
 "metadata": {
  "anaconda-cloud": {},
  "kernelspec": {
   "display_name": "Python [conda root]",
   "language": "python",
   "name": "conda-root-py"
  },
  "language_info": {
   "codemirror_mode": {
    "name": "ipython",
    "version": 3
   },
   "file_extension": ".py",
   "mimetype": "text/x-python",
   "name": "python",
   "nbconvert_exporter": "python",
   "pygments_lexer": "ipython3",
   "version": "3.5.2"
  }
 },
 "nbformat": 4,
 "nbformat_minor": 2
}
