{
 "cells": [
  {
   "cell_type": "code",
   "execution_count": 2,
   "metadata": {
    "collapsed": true
   },
   "outputs": [],
   "source": [
    "import numpy as np\n",
    "import pandas as pd\n",
    "\n",
    "import geopandas as gpd\n",
    "\n",
    "import psycopg2\n",
    "from fiona.crs import from_epsg\n",
    "\n",
    "from netrc import netrc\n",
    "user, acct, passwd = netrc().authenticators(\"harris\")\n",
    "\n",
    "import requests\n",
    "\n",
    "import statsmodels.formula.api as smf\n",
    "\n",
    "%matplotlib inline"
   ]
  },
  {
   "cell_type": "code",
   "execution_count": 7,
   "metadata": {
    "collapsed": false
   },
   "outputs": [],
   "source": [
    "geo_tracts = gpd.read_postgis(\"SELECT state::bigint * 1000000000 + county * 1000000 + tract geoid, \"\n",
    "                              \"ST_Transform(geom, 3528) geom \"\n",
    "                              \"FROM census_tracts_2015 \"\n",
    "                              \"WHERE state = 17 AND county = 31;\",\n",
    "                              con = psycopg2.connect(database = \"census\", user = user, password = passwd,\n",
    "                                                     host = \"saxon.harris.uchicago.edu\", port = 5432),\n",
    "                              index_col = \"geoid\", geom_col = \"geom\", crs = from_epsg(3528))\n",
    "\n",
    "chicago = gpd.read_file(\"chicago.geojson\").to_crs(epsg = 3528).unary_union\n",
    "chi_tracts = sorted(list(geo_tracts[geo_tracts.centroid.within(chicago)].index))"
   ]
  },
  {
   "cell_type": "code",
   "execution_count": 3,
   "metadata": {
    "collapsed": false
   },
   "outputs": [],
   "source": [
    "# O'Hare, Midway, and Robert Taylor Park.\n",
    "empty_tracts = [17031381700, 17031980000, 17031980100]\n",
    "\n",
    "traces = pd.read_csv(\"c_adjacencies.csv\", names = [\"h\", \"GEOID\", \"a\"])\n",
    "\n",
    "mtraces = traces.pivot(index = \"h\", columns = \"GEOID\", values = \"a\").fillna(0).sort_index()\n",
    "mtraces.drop(empty_tracts, inplace = True)\n",
    "mtraces = mtraces[list(mtraces.index)]\n",
    "\n",
    "for tr in list(mtraces.index): mtraces.loc[tr, tr] = 0\n",
    "\n",
    "mtraces = mtraces.div(mtraces.sum(axis=1), axis=0)\n",
    "np_mtraces = mtraces.as_matrix()"
   ]
  },
  {
   "cell_type": "markdown",
   "metadata": {},
   "source": [
    "## Now Grab Census Characteristics"
   ]
  },
  {
   "cell_type": "code",
   "execution_count": 4,
   "metadata": {
    "collapsed": false
   },
   "outputs": [
    {
     "name": "stdout",
     "output_type": "stream",
     "text": [
      "17031 17043 17089 17093 17197 18089 "
     ]
    }
   ],
   "source": [
    "census_vars = {\"DP02_0086E\" : \"TOTAL_POP\",\n",
    "               \"DP02_0066PE\" : \"HS_PCT\", \"DP02_0067PE\" : \"BA_PCT\", \"DP02_0065PE\" : \"ADV_PCT\",\n",
    "               \"DP03_0062E\" : \"MHI\", \"DP03_0119PE\" : \"POV_PCT\",\n",
    "               \"DP05_0060PE\" : \"PCT_BLACK\", \"DP05_0066PE\" : \"PCT_HISP\",\n",
    "               \"DP03_0009PE\" : \"PCT_UNEMP\"\n",
    "              }\n",
    "\n",
    "census_vals = list(census_vars.values())\n",
    "\n",
    "census_labels = {\"HS_PCT\" : \"HS Graduate [%]\", \"BA_PCT\" : \"Bachelor's Degree [%]\", \"ADV_PCT\" : \"Advanced Degree [%]\",\n",
    "                 \"MHI\" : \"Median Household Income [k$]\", \"POV_PCT\" : \"Under the Poverty Line [%]\",\n",
    "                 \"PCT_BLACK\" : \"Black [%]\", \"PCT_HISP\" : \"Hispanic [%]\",\n",
    "                 \"PCT_UNEMP\" : \"Unemployment Rate [%]\"}\n",
    "\n",
    "url = \"https://api.census.gov/data/2014/acs5/profile?for=tract:*&in=state:{}+county:{}&get=NAME,\"\n",
    "url = url + \",\".join(census_vars.keys())\n",
    "\n",
    "dfs = []\n",
    "for cs in (mtraces.columns // 1000000).unique():\n",
    "    \n",
    "    print(cs, end = \" \")\n",
    "    state, county = (cs // 1000), (cs % 1000)\n",
    "\n",
    "    # print(url.format(state, county))\n",
    "\n",
    "    j = requests.get(url.format(state, county)).json()\n",
    "    df = pd.DataFrame(j[1:], columns = j[0])\n",
    "    df.rename(columns = census_vars, inplace = True)\n",
    "\n",
    "    dfs.append(df)\n",
    "\n",
    "df = pd.concat(dfs)\n",
    "\n",
    "for v in list(census_vars.values()) + [\"state\", \"county\", \"tract\"]:\n",
    "    df[v] = pd.to_numeric(df[v], errors = \"coerce\")\n",
    "    \n",
    "df[\"MHI\"] /= 1e3\n",
    "\n",
    "df[\"GEOID\"] = df[\"state\"] * 1000000000 + df[\"county\"] * 1000000 + df[\"tract\"]\n",
    "df.set_index(\"GEOID\", inplace = True)\n",
    "data = df.loc[mtraces.index]\n",
    "data.index.name = \"GEOID\""
   ]
  },
  {
   "cell_type": "markdown",
   "metadata": {},
   "source": [
    "## Get the weighted, lagged rates."
   ]
  },
  {
   "cell_type": "code",
   "execution_count": 5,
   "metadata": {
    "collapsed": false
   },
   "outputs": [],
   "source": [
    "lagged = pd.DataFrame(data = np.matmul(np_mtraces, data[census_vals]), columns = census_vals, index = mtraces.index)\n",
    "lagged = df[census_vals].join(lagged, rsuffix = \"_lag\").loc[chi_tracts].dropna()"
   ]
  },
  {
   "cell_type": "code",
   "execution_count": 6,
   "metadata": {
    "collapsed": false
   },
   "outputs": [],
   "source": [
    "for k, v in census_labels.items():\n",
    "    \n",
    "    ax = lagged.plot(kind = \"scatter\", x = k, y = k + \"_lag\", alpha = 0.2)\n",
    "    ax.set_aspect(\"equal\")\n",
    "    ax.set_ylabel(\"Lagged\")\n",
    "    ax.set_xlabel(v)\n",
    "\n",
    "    ax.figure.savefig(\"figs/lag_\" + k + \".pdf\")\n",
    "    \n",
    "    plt.close(\"all\")"
   ]
  },
  {
   "cell_type": "markdown",
   "metadata": {},
   "source": [
    "## Show all the interactions -- no average."
   ]
  },
  {
   "cell_type": "code",
   "execution_count": 7,
   "metadata": {
    "collapsed": true
   },
   "outputs": [],
   "source": [
    "traces = pd.read_csv(\"c_adjacencies.csv\", names = [\"h\", \"o\", \"a\"])\n",
    "traces = traces[traces.h != traces.o]\n",
    "\n",
    "mtraces = traces.pivot(index = \"h\", columns = \"o\", values = \"a\").fillna(0).sort_index()\n",
    "mtraces.drop(empty_tracts, inplace = True)\n",
    "mtraces = mtraces[list(mtraces.index)]\n",
    "mtraces = mtraces.div(mtraces.sum(axis=1), axis=0)"
   ]
  },
  {
   "cell_type": "code",
   "execution_count": 8,
   "metadata": {
    "collapsed": false
   },
   "outputs": [],
   "source": [
    "traces = mtraces.stack().reset_index()\n",
    "traces.rename(columns = {0 : \"W\"}, inplace = True)\n",
    "traces = traces[traces.W > 0]"
   ]
  },
  {
   "cell_type": "code",
   "execution_count": 9,
   "metadata": {
    "collapsed": false
   },
   "outputs": [],
   "source": [
    "cross = pd.merge(traces, data[census_vals].reset_index(), left_on = \"h\", right_on = \"GEOID\").drop(\"GEOID\", axis = 1)\n",
    "cross = pd.merge(cross,  data[census_vals].reset_index(), left_on = \"o\", right_on = \"GEOID\", suffixes = [\"\", \"_o\"]).drop(\"GEOID\", axis = 1)\n",
    "cross[\"WP\"] = cross[\"W\"] * cross[\"TOTAL_POP\"]"
   ]
  },
  {
   "cell_type": "code",
   "execution_count": null,
   "metadata": {
    "collapsed": false
   },
   "outputs": [],
   "source": []
  },
  {
   "cell_type": "code",
   "execution_count": 10,
   "metadata": {
    "collapsed": false
   },
   "outputs": [
    {
     "data": {
      "image/png": "[encoded data removed]",
      "text/plain": [
       "<matplotlib.figure.Figure at 0x7fc41f1c3b00>"
      ]
     },
     "metadata": {},
     "output_type": "display_data"
    },
    {
     "data": {
      "image/png": "[encoded data removed]",
      "text/plain": [
       "<matplotlib.figure.Figure at 0x7fc41cc0c080>"
      ]
     },
     "metadata": {},
     "output_type": "display_data"
    }
   ],
   "source": [
    "from matplotlib.colors import LogNorm\n",
    "\n",
    "if 1:\n",
    "    \n",
    "    for k, v in {\"POV_PCT\" : \"Poverty Rate[%]\",\n",
    "                 \"BA_PCT\"  : \"Bachelor's Degree [%]\"}.items():\n",
    "        \n",
    "        maxi = 80 if k == \"POV_PCT\" else 100\n",
    "        \n",
    "        H, xedges, yedges = np.histogram2d(cross[k], cross[k + \"_o\"], weights = cross[\"WP\"],\n",
    "                                   bins = 50, range = [[0, maxi], [0, maxi]], normed = True)\n",
    "\n",
    "        fig, ax = plt.subplots(figsize=(3, 3))\n",
    "        ax.imshow(H, interpolation='nearest', origin='low', cmap = \"Blues\",\n",
    "                  norm = LogNorm(vmin = 1e-5, vmax = 5e-3),\n",
    "                  extent=[xedges[0], xedges[-1], yedges[0], yedges[-1]])\n",
    "        \n",
    "        ax.set_xlabel(v)\n",
    "        ax.set_ylabel(\"Visited\")\n",
    "        \n",
    "        ax.figure.savefig(\"figs/cross_{}.png\".format(k))\n",
    "        \n",
    "        # plt.close(\"all\")\n"
   ]
  },
  {
   "cell_type": "code",
   "execution_count": 11,
   "metadata": {
    "collapsed": false
   },
   "outputs": [
    {
     "name": "stdout",
     "output_type": "stream",
     "text": [
      "HS_PCT 0.148051834676\n",
      "TOTAL_POP 0.0273025673186\n",
      "PCT_UNEMP 0.16775960202\n",
      "PCT_HISP 0.165509521027\n",
      "BA_PCT 0.197470901849\n",
      "POV_PCT 0.137567571633\n",
      "MHI 0.141405734039\n",
      "ADV_PCT 0.15753935847\n",
      "PCT_BLACK 0.281178407806\n"
     ]
    }
   ],
   "source": [
    "for v in census_vals:\n",
    "\n",
    "    print(v, smf.wls(formula = \"{} ~ {}_o\".format(v, v), \n",
    "                     weights = cross[\"WP\"], data = cross).fit().rsquared)"
   ]
  },
  {
   "cell_type": "markdown",
   "metadata": {},
   "source": [
    "## A Biased Distribution"
   ]
  },
  {
   "cell_type": "code",
   "execution_count": 12,
   "metadata": {
    "collapsed": false
   },
   "outputs": [],
   "source": [
    "homes = pd.read_sql(\"SELECT geoid, COUNT(*) N FROM homes WHERE nhome > 2 GROUP BY geoid;\", con = tr_con)\n",
    "homes = homes.rename(columns = {\"geoid\" : \"GEOID\", \"n\" : \"N\"}).set_index(\"GEOID\")\n",
    "homes = pd.concat([homes, data], axis = 1)\n",
    "homes[\"Fraction Sampled\"] = homes.N / homes.TOTAL_POP\n",
    "\n",
    "homes.fillna(0, inplace = True)"
   ]
  },
  {
   "cell_type": "code",
   "execution_count": 13,
   "metadata": {
    "collapsed": false
   },
   "outputs": [
    {
     "data": {
      "image/png": "[encoded data removed]",
      "text/plain": [
       "<matplotlib.figure.Figure at 0x7fc41f1a3208>"
      ]
     },
     "metadata": {},
     "output_type": "display_data"
    }
   ],
   "source": [
    "ax = homes[\"Fraction Sampled\"].hist(bins = np.arange(0, 0.201, 0.01))\n",
    "ax.set_xlabel(\"Fraction Sampled\")\n",
    "ax.set_ylabel(\"Tracts\")\n",
    "ax.grid(False)\n",
    "\n",
    "ax.figure.savefig(\"figs/sample_fraction.pdf\")"
   ]
  },
  {
   "cell_type": "code",
   "execution_count": 14,
   "metadata": {
    "collapsed": false
   },
   "outputs": [],
   "source": [
    "for k, v in census_labels.items():\n",
    "    \n",
    "    maxi = 101 if k != \"MHI\" else 200\n",
    "\n",
    "    ax = homes[k].hist(bins = np.arange(0, maxi, maxi/20), weights = homes[\"TOTAL_POP\"], figsize = (4, 2.5),\n",
    "                       color = \"green\", alpha = 0.5, normed = True, label = \"Census\")\n",
    "\n",
    "    homes[k].hist(bins = np.arange(0, maxi, maxi/20), weights = homes.N, \n",
    "                  color = \"blue\", alpha = 0.5, normed = True, ax = ax, label = \"Cell Traces\")\n",
    "\n",
    "    ax.set_xlabel(v)\n",
    "    ax.set_ylabel(\"Density\")\n",
    "    ax.grid(False)\n",
    "    ax.legend(frameon = False)\n",
    "    \n",
    "    ax.figure.savefig(\"figs/bias_{}.pdf\".format(k))\n",
    "    \n",
    "    plt.close(\"all\")"
   ]
  },
  {
   "cell_type": "code",
   "execution_count": null,
   "metadata": {
    "collapsed": true
   },
   "outputs": [],
   "source": []
  }
 ],
 "metadata": {
  "anaconda-cloud": {},
  "kernelspec": {
   "display_name": "Python [conda root]",
   "language": "python",
   "name": "conda-root-py"
  },
  "language_info": {
   "codemirror_mode": {
    "name": "ipython",
    "version": 3
   },
   "file_extension": ".py",
   "mimetype": "text/x-python",
   "name": "python",
   "nbconvert_exporter": "python",
   "pygments_lexer": "ipython3",
   "version": "3.5.2"
  }
 },
 "nbformat": 4,
 "nbformat_minor": 2
}
